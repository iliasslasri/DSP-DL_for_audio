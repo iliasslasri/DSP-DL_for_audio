{
 "cells": [
  {
   "cell_type": "markdown",
   "metadata": {},
   "source": [
    "# TSIA202a - Second Practice Session : Spectral density estimation and periodogram\n",
    "The goal of this second session is to provide a power spectral density estimator of a real, zero-mean, weakly stationary process $X_t$. We suppose that we have access to $n$ observations and we will use the FFT algorithm (that implements the DFT) using `numpy.fft.module`.\n",
    "Recall (from the course) that the periodogram of the observations $X_0, \\dots, X_{n-1}$ can be given as:\n",
    "$$\n",
    "I_n(\\lambda) = \\frac{1}{2\\pi n}|\\sum_{k=0}^{n-1} X_k e^{i\\lambda k}|^2\n",
    "$$\n",
    "\n",
    "Moreover, the Hertglotz theorem provides a relation between the empirical autocovariance $\\hat{\\gamma}_n$ and the periodogram $I_n$:\n",
    "$$\n",
    "\\hat{\\gamma}_n(k) = \\int_{0}^{2\\pi}e^{i\\lambda k}I_n({\\lambda})d\\lambda\n",
    "$$\n",
    "\n",
    "1. For a given $m \\geq n$  we denote also the DFT as:\n",
    "$$\n",
    "DFT(X,m)(k) = \\sum_{h=0}^{n-1}X_he^{-2i\\pi\\frac{kh}{m}}\n",
    "$$\n",
    "Show the following relation: \n",
    "$$I_n(\\frac{2\\pi k}{m}) = \\frac{1}{2\\pi n} |DFT(X,m)(k)|^2$$\n",
    "2. provide a script that compute those $I_n(\\frac{2\\pi k}{m})$ for the time series mentioned in the first practice session\n",
    "3. Show that $I_n(\\lambda) = \\frac{1}{2\\pi} \\sum_{k=0}^{n-1} \\hat{\\gamma}_n(k)e^{-i\\lambda k}$\n",
    "4. How to choose $m$ in order to get a simple relation between $\\hat{\\gamma}_n(k)$ and $I_n(\\frac{2\\pi k}{m})$ ? At the end, given a specific $\\tilde{m}$ show that:\n",
    "$$\n",
    "\\hat{\\gamma}_n(k) = \\frac{1}{n} IDFT\\left(\\left|DFT(X, \\tilde{m})\\right|^2, \\tilde{m}\\right)(k)\n",
    "$$ Try this estimator on the autocovariance of previous time series of the first session.\n",
    "\n",
    "5. In the case of white noise, estimate the variance of the periodogram for several values of $n$ and discuss about it."
   ]
  },
  {
   "cell_type": "markdown",
   "metadata": {},
   "source": [
    "### 1\n",
    "\n",
    "To show the relation between the periodogram and the discrete Fourier transform (DFT) for a given $m \\geq n$, we'll start by expressing $I_n\\left(\\frac{2\\pi k}{m}\\right)$ in terms of the DFT of the observations.\n",
    "\n",
    "Recall the expression for $I_n(\\lambda)$:\n",
    "\n",
    "$$\n",
    "I_n(\\lambda) = \\frac{1}{2\\pi n} \\left|\\sum_{k=0}^{n-1} X_k e^{i\\lambda k}\\right|^2\n",
    "$$\n",
    "\n",
    "Now, we want to evaluate $I_n\\left(\\frac{2\\pi k}{m}\\right)$:\n",
    "$$\n",
    "I_n\\left(\\frac{2\\pi k}{m}\\right) = \\frac{1}{2\\pi n} \\left|\\sum_{h=0}^{n-1} X_h e^{i\\frac{2\\pi k}{m}h}\\right|^2\n",
    "$$\n",
    "\n",
    "To relate this expression to the DFT, we need to rewrite the exponent in the DFT form. Notice that $e^{i\\frac{2\\pi k}{m}h}$ can be expressed as $e^{-2i\\pi\\frac{kh}{m}}$. Therefore, we can rewrite $I_n\\left(\\frac{2\\pi k}{m}\\right)$ as follows:\n",
    "$$\n",
    "I_n\\left(\\frac{2\\pi k}{m}\\right) = \\frac{1}{2\\pi n} \\left|\\sum_{h=0}^{n-1} X_h e^{-2i\\pi\\frac{kh}{m}}\\right|^2\n",
    "$$\n",
    "\n",
    "Now, let's define the DFT of $X$ with length $m$ at frequency index $k$:\n",
    "$$\n",
    "DFT(X, m)(k) = \\sum_{h=0}^{n-1} X_h e^{-2i\\pi\\frac{kh}{m}}\n",
    "$$\n",
    "\n",
    "Using this definition, we can rewrite the expression for $I_n\\left(\\frac{2\\pi k}{m}\\right)$ in terms of the DFT:\n",
    "$$\n",
    "I_n\\left(\\frac{2\\pi k}{m}\\right) = \\frac{1}{2\\pi n} |DFT(X, m)(k)|^2\n",
    "$$\n"
   ]
  },
  {
   "cell_type": "markdown",
   "metadata": {},
   "source": [
    "### 2 : Provide a script that compute those $I_n(\\frac{2\\pi k}{m})$ for the time series mentioned in the first practice session"
   ]
  },
  {
   "cell_type": "code",
   "execution_count": 2,
   "metadata": {},
   "outputs": [],
   "source": [
    "import numpy as np\n",
    "\n",
    "def periodogram_def(X, m, n):\n",
    "    ''' Compute the periodogram of the observations X.\n",
    "    Parameters\n",
    "    ----------\n",
    "    X : Observations\n",
    "    m : int\n",
    "        Number of frequencies to compute (Length of the transformed axis of the output.)\n",
    "    n : int\n",
    "        Number of observations.\n",
    "    Returns\n",
    "    -------\n",
    "    I_values : numpy.ndarray, shape=(m,)\n",
    "        Periodogram values.\n",
    "    '''\n",
    "    # Compute the DFT if the observations\n",
    "    DFT_X = np.fft.fft(X, m)\n",
    "    \n",
    "    # Compute the periodogram\n",
    "    I_values = (1 / (2 * np.pi * n)) * np.abs(DFT_X) ** 2\n",
    "\n",
    "    # I_n(2πk/m) is I_values[k]\n",
    "    return I_values"
   ]
  },
  {
   "cell_type": "markdown",
   "metadata": {},
   "source": [
    "Lets try this function on the first time series $X_t=a+bZ_t+Z_{t-1}$ where $Z_t \\sim \\text{WN}\\left(0,\\sigma^2\\right)$"
   ]
  },
  {
   "cell_type": "code",
   "execution_count": 3,
   "metadata": {},
   "outputs": [],
   "source": [
    "sigma = 1 # standard deviation\n",
    "mean_wn = 0 # mean of white noise\n",
    "T = 100 # time\n",
    "\n",
    "Z = np.random.normal(mean_wn, sigma, T)"
   ]
  },
  {
   "cell_type": "code",
   "execution_count": 4,
   "metadata": {},
   "outputs": [],
   "source": [
    "a = 2\n",
    "b = 2\n",
    "\n",
    "X = np.zeros(T)\n",
    "for i in range(1, T):\n",
    "    X[i] = a + b * Z[i] + Z[i-1]"
   ]
  },
  {
   "cell_type": "code",
   "execution_count": 5,
   "metadata": {},
   "outputs": [
    {
     "name": "stdout",
     "output_type": "stream",
     "text": [
      "0.5340864880003331\n"
     ]
    }
   ],
   "source": [
    "# Parameters :\n",
    "m = 2*T\n",
    "k = 5\n",
    "\n",
    "periodogram = periodogram_def(X, m, n=T)\n",
    "# I_n(2πk/m) is periodogram[k]\n",
    "print(periodogram[k])"
   ]
  },
  {
   "cell_type": "markdown",
   "metadata": {},
   "source": [
    "### 4. How to choose $m$ in order to get a simple relation between $\\hat{\\gamma}_n(k)$ and $I_n(\\frac{2\\pi k}{m})$ ? At the end, given a specific $\\tilde{m}$ show that:\n",
    "$$\n",
    "\\hat{\\gamma}_n(k) = \\frac{1}{n} IDFT\\left(\\left|DFT(X, \\tilde{m})\\right|^2, \\tilde{m}\\right)(k)\n",
    "$$ Try this estimator on the autocovariance of previous time series of the first session."
   ]
  },
  {
   "cell_type": "markdown",
   "metadata": {},
   "source": [
    "We should just choose $ m = \\tilde{m} > n$, to have :$$ I_n(\\frac{2\\pi k}{\\tilde{m}}) = DFT(\\hat{\\gamma}_n, \\tilde{m})(k)$$\n",
    "\n",
    "From the relation above we can write that : $$ \\frac 1 n IDFT(I_n(\\frac{2\\pi k}{\\tilde{m}}))(k) = \\hat{\\gamma}_n(k)$$\n",
    "\n",
    "and we know that for $m > n$ : \n",
    "$$\n",
    "I_n\\left(\\frac{2\\pi k}{m}\\right) = \\frac{1}{2\\pi n} |DFT(X, m)(k)|^2\n",
    "$$ \n",
    "\n",
    "So : \n",
    "$$\n",
    "\\hat{\\gamma}_n(k) = \\frac{1}{n} IDFT\\left(\\frac{1}{2\\pi n} \\left|DFT(X, \\tilde{m})\\right|^2, \\tilde{m}\\right)(k)\n",
    "$$\n",
    "\n",
    "Finally : \n",
    "$$\n",
    "\\hat{\\gamma}_n(k) = \\frac{1}{n} IDFT\\left(\\left|DFT(X, \\tilde{m})\\right|^2, \\tilde{m}\\right)(k)\n",
    "$$"
   ]
  },
  {
   "cell_type": "markdown",
   "metadata": {},
   "source": [
    "### 5. In the case of white noise, estimate the variance of the periodogram for several values of $n$ and discuss about it."
   ]
  },
  {
   "cell_type": "markdown",
   "metadata": {},
   "source": [
    "We have : \n",
    "$$\n",
    "Var(\\hat{\\gamma}_n(k)) = \\frac{1}{(2\\pi n)^2} Var[ \\left|DFT(X, \\tilde{m})\\right|^2)(k)]\n",
    "\n",
    "$$"
   ]
  },
  {
   "cell_type": "code",
   "execution_count": 11,
   "metadata": {},
   "outputs": [
    {
     "name": "stdout",
     "output_type": "stream",
     "text": [
      "[0.12984218118968782, 0.09008404854836338, 0.10373230139898217, 0.025363127677860035]\n"
     ]
    }
   ],
   "source": [
    "# Let's consider the white noise Z, defined above :\n",
    "sigma = 1 # standard deviation\n",
    "mean_wn = 0 # mean of white noise\n",
    "n = [10, 500, 1000, 100_0000]\n",
    "\n",
    "Z = [np.random.normal(mean_wn, sigma, n[3])]\n",
    "\n",
    "# estimation of the variance of the periodogram\n",
    "variance = []\n",
    "for i in range(4):\n",
    "    # Compute the periodogram\n",
    "    m = 2 * n[i] \n",
    "    DFT_X = np.fft.fft(Z[:n[i]], m)\n",
    "    periodogram = (1 / (2 * np.pi * n[i])) * np.abs(DFT_X) ** 2\n",
    "\n",
    "    # Calculate and store the variance of the periodogram\n",
    "    variance.append(np.var(periodogram))\n",
    "\n",
    "print(variance)"
   ]
  },
  {
   "cell_type": "code",
   "execution_count": 12,
   "metadata": {},
   "outputs": [
    {
     "data": {
      "image/png": "[encoded data removed]",
      "text/plain": [
       "<Figure size 640x480 with 1 Axes>"
      ]
     },
     "metadata": {},
     "output_type": "display_data"
    }
   ],
   "source": [
    "import matplotlib.pyplot as plt\n",
    "\n",
    "plt.plot(n, variance, marker='o')\n",
    "plt.xscale('log')\n",
    "plt.xlabel('n')\n",
    "plt.ylabel('Variance of Periodogram')\n",
    "plt.title('Variance of Periodogram for White Noise')\n",
    "plt.show()"
   ]
  },
  {
   "cell_type": "markdown",
   "metadata": {},
   "source": [
    "    As expected, the variances decrease as n increases. This aligns with the notion that larger sample sizes lead to more accurate spectral density estimates."
   ]
  }
 ],
 "metadata": {
  "kernelspec": {
   "display_name": "Python 3",
   "language": "python",
   "name": "python3"
  },
  "language_info": {
   "codemirror_mode": {
    "name": "ipython",
    "version": 3
   },
   "file_extension": ".py",
   "mimetype": "text/x-python",
   "name": "python",
   "nbconvert_exporter": "python",
   "pygments_lexer": "ipython3",
   "version": "3.10.11"
  },
  "orig_nbformat": 4
 },
 "nbformat": 4,
 "nbformat_minor": 2
}
